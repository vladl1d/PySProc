{
 "cells": [
  {
   "cell_type": "code",
   "execution_count": 1,
   "metadata": {},
   "outputs": [],
   "source": [
    "from sqlalchemy import create_engine\n",
    "from sqlalchemy.orm import sessionmaker\n",
    "\n",
    "dsn = 'mssql+pyodbc://v-liderman\\sql2017/omnius?driver=ODBC+Driver+13+for+SQL+Server'\n",
    "\n",
    "_module = create_engine(dsn, echo=True)\n",
    "session = sessionmaker(bind=_module)()"
   ]
  },
  {
   "cell_type": "code",
   "execution_count": 2,
   "metadata": {},
   "outputs": [],
   "source": [
    "import dbmodel as db"
   ]
  },
  {
   "cell_type": "code",
   "execution_count": 3,
   "metadata": {},
   "outputs": [],
   "source": [
    "agn_type = 'DDAT_Act_Agree'"
   ]
  },
  {
   "cell_type": "code",
   "execution_count": 33,
   "metadata": {},
   "outputs": [
    {
     "name": "stdout",
     "output_type": "stream",
     "text": [
      "2019-02-26 10:24:25,820 INFO sqlalchemy.engine.base.Engine SELECT TOP 1 dbo.[DS_Docs_Assignment_Types].[LINK] AS [dbo_DS_Docs_Assignment_Types_LINK], dbo.[DS_Contract_Status].[LINK] AS [dbo_DS_Contract_Status_LINK] \n",
      "FROM dbo.[DS_Docs_Assignment_Types] LEFT OUTER JOIN dbo.[XpoStateMachine] ON dbo.[XpoStateMachine].[Oid] = dbo.[DS_Docs_Assignment_Types].[F_State_Machine_Xaf] LEFT OUTER JOIN dbo.[XpoState] ON dbo.[XpoStateMachine].[StartState] = dbo.[XpoState].[Oid] LEFT OUTER JOIN dbo.[DS_Contract_Status] ON dbo.[XpoState].[MarkerValue] = dbo.[DS_Contract_Status].[LINK] \n",
      "WHERE dbo.[DS_Docs_Assignment_Types].[C_Const] = ?\n",
      "2019-02-26 10:24:25,820 INFO sqlalchemy.engine.base.Engine ('DDAT_Act_Agree',)\n"
     ]
    },
    {
     "data": {
      "text/plain": [
       "(8, None)"
      ]
     },
     "execution_count": 33,
     "metadata": {},
     "output_type": "execute_result"
    }
   ],
   "source": [
    "from sqlalchemy.orm import aliased\n",
    "\n",
    "session.query(db.DS_Docs_Assignment_Types.LINK, db.DS_Contract_Status.LINK)\\\n",
    "    .outerjoin(db.XpoStateMachine)\\\n",
    "    .outerjoin(db.XpoState, db.XpoStateMachine.XpoState )\\\n",
    "    .outerjoin(db.DS_Contract_Status, db.XpoState.MarkerValue==db.DS_Contract_Status.LINK)\\\n",
    "    .filter(db.DS_Docs_Assignment_Types.C_Const==agn_type).first()\n"
   ]
  },
  {
   "cell_type": "code",
   "execution_count": 2,
   "metadata": {},
   "outputs": [],
   "source": [
    "from sqlalchemy import BigInteger, CHAR, Column, DECIMAL, DateTime, Float, ForeignKey, Index, Integer, LargeBinary, NCHAR, SmallInteger, String, TEXT, Table, Unicode, text\n",
    "from sqlalchemy.dialects.mssql import BIT, DATETIME2, IMAGE, MONEY, NTEXT, SMALLDATETIME, SMALLMONEY, TINYINT, UNIQUEIDENTIFIER, XML\n",
    "from sqlalchemy.orm import relationship\n",
    "from sqlalchemy.ext.declarative import declarative_base\n",
    "\n",
    "Base = declarative_base()\n",
    "metadata = Base.metadata\n",
    "\n",
    "class PE_FD_Payments(Base):\n",
    "    __tablename__ = 'FD_Payments'\n",
    "    __table_args__ = (\n",
    "        {'schema': 'PE'}\n",
    "    )\n",
    "\n",
    "    F_SubDivision = Column(TINYINT, nullable=False, server_default=text(\"((0))\"))\n",
    "    LINK = Column(BigInteger, primary_key=True)\n",
    "    C_Number = Column(String(100, 'Cyrillic_General_CI_AS'))\n",
    "    C_Destination = Column(String(500, 'Cyrillic_General_CI_AS'))\n",
    "    D_Date = Column(SMALLDATETIME, nullable=False)\n",
    "    D_Doc_Date = Column(SMALLDATETIME)\n",
    "    D_Post_Date = Column(SMALLDATETIME, nullable=False)\n",
    "    D_Reverse_Date = Column(SMALLDATETIME)\n",
    "    N_Amount = Column(MONEY)\n",
    "    \n",
    "    children = relationship('ED_Meter_Readings')\n",
    "\n",
    "class ED_Meter_Readings(Base):\n",
    "    __tablename__ = 'ED_Meter_Readings'\n",
    "\n",
    "    F_SubDivision = Column(TINYINT, nullable=False, server_default=text(\"((0))\"))\n",
    "    LINK = Column(BigInteger, primary_key=True)\n",
    "    F_Payments = Column(ForeignKey('PE.FD_Payments.LINK'), index=True)\n",
    "    D_Date = Column(SMALLDATETIME, nullable=False, index=True)\n",
    "    N_Value = Column(DECIMAL(19, 6))\n",
    "    N_Value2 = Column(DECIMAL(19, 6))\n",
    "\n",
    "\n",
    "    FD_Payments = relationship('PE_FD_Payments')"
   ]
  },
  {
   "cell_type": "code",
   "execution_count": 16,
   "metadata": {},
   "outputs": [],
   "source": [
    "from sqlitis.convert import to_sqla"
   ]
  },
  {
   "cell_type": "code",
   "execution_count": 21,
   "metadata": {},
   "outputs": [
    {
     "data": {
      "text/plain": [
       "'select([a.c.er]).select_from(a.join(b, a.c.id == b.c.id).join(c, c.c.id == b.c.id))'"
      ]
     },
     "execution_count": 21,
     "metadata": {},
     "output_type": "execute_result"
    }
   ],
   "source": [
    "to_sqla('select a.er from a inner join b on a.id=b.id inner join c on c.id=b.id')"
   ]
  },
  {
   "cell_type": "code",
   "execution_count": null,
   "metadata": {},
   "outputs": [],
   "source": [
    "from pony.orm import Database, Required, Optional\n",
    "db = Database()"
   ]
  },
  {
   "cell_type": "code",
   "execution_count": null,
   "metadata": {},
   "outputs": [],
   "source": [
    "#db.bind('mssql', r'DRIVER={ODBC Driver 13 for SQL Server};SERVER=V-LIDERMAN\\SQL2017;Trusted_Connection=Yes;Database=OmniUS;')\n",
    "#db.bind('mssql', host=r'V-LIDERMAN\\SQL2017', database='OmniUS')\n",
    "        #r'DRIVER={ODBC Driver 13 for SQL Server};SERVER=;Trusted_Connection=Yes;Database=OmniUS;')\n",
    "db.bind('mssql', host=r'dev-db-v-02\\sql2017', database='omnius')"
   ]
  },
  {
   "cell_type": "code",
   "execution_count": null,
   "metadata": {},
   "outputs": [],
   "source": [
    "db.generate_mapping()"
   ]
  },
  {
   "cell_type": "code",
   "execution_count": null,
   "metadata": {},
   "outputs": [],
   "source": [
    "x = 1\n",
    "data = db.select(\"select * from cs_month where link=$x\")\n",
    "data"
   ]
  },
  {
   "cell_type": "code",
   "execution_count": null,
   "metadata": {},
   "outputs": [],
   "source": [
    "import pymssql\n",
    "pymssql.connect(host=r'dev-db-v-02\\sql2017', database='omnius')"
   ]
  }
 ],
 "metadata": {
  "kernelspec": {
   "display_name": "Python 3",
   "language": "python",
   "name": "python3"
  },
  "language_info": {
   "codemirror_mode": {
    "name": "ipython",
    "version": 3
   },
   "file_extension": ".py",
   "mimetype": "text/x-python",
   "name": "python",
   "nbconvert_exporter": "python",
   "pygments_lexer": "ipython3",
   "version": "3.7.2"
  }
 },
 "nbformat": 4,
 "nbformat_minor": 2
}
